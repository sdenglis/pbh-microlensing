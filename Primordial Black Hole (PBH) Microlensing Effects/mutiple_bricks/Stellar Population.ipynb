{
 "cells": [
  {
   "cell_type": "code",
   "execution_count": 1,
   "metadata": {},
   "outputs": [],
   "source": [
    "%matplotlib inline\n",
    "from astropy.io import fits\n",
    "import math\n",
    "import numpy as np\n",
    "from scipy.stats import kde\n",
    "import matplotlib.pyplot as plt"
   ]
  },
  {
   "cell_type": "code",
   "execution_count": 147,
   "metadata": {},
   "outputs": [
    {
     "name": "stdout",
     "output_type": "stream",
     "text": [
      "[14.686 16.634 17.272 ... 27.275 27.124 26.518]\n"
     ]
    }
   ],
   "source": [
    "F814W_GST_MASTER = np.load('GST_DATA/F814W_GST_data_b23.npy')\n",
    "F814W_GST_ADD = np.load('GST_DATA/F814W_GST_data_b22.npy')\n",
    "\n",
    "print(F814W_GST_MASTER)\n",
    "\n",
    "F814W_GST_MASTER = np.concatenate((F814W_GST_MASTER, F814W_GST_ADD), axis=None)\n",
    "\n",
    "F814W_GST_ADD = np.load('GST_DATA/F814W_GST_data_b21.npy')\n",
    "F814W_GST_MASTER = np.concatenate((F814W_GST_MASTER, F814W_GST_ADD), axis=None)\n",
    "\n",
    "F814W_GST_ADD = np.load('GST_DATA/F814W_GST_data_b20.npy')\n",
    "F814W_GST_MASTER = np.concatenate((F814W_GST_MASTER, F814W_GST_ADD), axis=None)\n",
    "\n",
    "F814W_GST_ADD = np.load('GST_DATA/F814W_GST_data_b19.npy')\n",
    "F814W_GST_MASTER = np.concatenate((F814W_GST_MASTER, F814W_GST_ADD), axis=None)\n",
    "\n",
    "F814W_GST_ADD = np.load('GST_DATA/F814W_GST_data_b18.npy')\n",
    "F814W_GST_MASTER = np.concatenate((F814W_GST_MASTER, F814W_GST_ADD), axis=None)\n",
    "\n",
    "F814W_GST_ADD = np.load('GST_DATA/F814W_GST_data_b17.npy')\n",
    "F814W_GST_MASTER = np.concatenate((F814W_GST_MASTER, F814W_GST_ADD), axis=None)\n",
    "\n",
    "F814W_GST_ADD = np.load('GST_DATA/F814W_GST_data_b16.npy')\n",
    "F814W_GST_MASTER = np.concatenate((F814W_GST_MASTER, F814W_GST_ADD), axis=None)\n",
    "\n",
    "F814W_GST_ADD = np.load('GST_DATA/F814W_GST_data_b15.npy')\n",
    "F814W_GST_MASTER = np.concatenate((F814W_GST_MASTER, F814W_GST_ADD), axis=None)\n",
    "\n",
    "F814W_GST_ADD = np.load('GST_DATA/F814W_GST_data_b14.npy')\n",
    "F814W_GST_MASTER = np.concatenate((F814W_GST_MASTER, F814W_GST_ADD), axis=None)\n",
    "\n",
    "F814W_GST_ADD = np.load('GST_DATA/F814W_GST_data_b13.npy')\n",
    "F814W_GST_MASTER = np.concatenate((F814W_GST_MASTER, F814W_GST_ADD), axis=None)\n",
    "\n",
    "F814W_GST_ADD = np.load('GST_DATA/F814W_GST_data_b12.npy')\n",
    "F814W_GST_MASTER = np.concatenate((F814W_GST_MASTER, F814W_GST_ADD), axis=None)\n",
    "\n",
    "F814W_GST_ADD = np.load('GST_DATA/F814W_GST_data_b11.npy')\n",
    "F814W_GST_MASTER = np.concatenate((F814W_GST_MASTER, F814W_GST_ADD), axis=None)\n",
    "\n",
    "F814W_GST_ADD = np.load('GST_DATA/F814W_GST_data_b10.npy')\n",
    "F814W_GST_MASTER = np.concatenate((F814W_GST_MASTER, F814W_GST_ADD), axis=None)\n",
    "\n",
    "F814W_GST_ADD = np.load('GST_DATA/F814W_GST_data_b09.npy')\n",
    "F814W_GST_MASTER = np.concatenate((F814W_GST_MASTER, F814W_GST_ADD), axis=None)\n",
    "\n",
    "F814W_GST_ADD = np.load('GST_DATA/F814W_GST_data_b08.npy')\n",
    "F814W_GST_MASTER = np.concatenate((F814W_GST_MASTER, F814W_GST_ADD), axis=None)\n",
    "\n",
    "F814W_GST_ADD = np.load('GST_DATA/F814W_GST_data_b07.npy')\n",
    "F814W_GST_MASTER = np.concatenate((F814W_GST_MASTER, F814W_GST_ADD), axis=None)\n",
    "\n",
    "np.save('F814W_GST_MASTER.npy', F814W_GST_MASTER)"
   ]
  },
  {
   "cell_type": "code",
   "execution_count": null,
   "metadata": {},
   "outputs": [],
   "source": [
    "F475W_GST_MASTER = np.load('GST_DATA/F475W_GST_data_b23.npy')\n",
    "F475W_GST_ADD = np.load('GST_DATA/F475W_GST_data_b22.npy')\n",
    "\n",
    "print(F475W_GST_MASTER)\n",
    "\n",
    "F475W_GST_MASTER = np.concatenate((F475W_GST_MASTER, F475W_GST_ADD), axis=None)\n",
    "\n",
    "F475W_GST_ADD = np.load('GST_DATA/F475W_GST_data_b21.npy')\n",
    "F475W_GST_MASTER = np.concatenate((F475W_GST_MASTER, F475W_GST_ADD), axis=None)\n",
    "\n",
    "F475W_GST_ADD = np.load('GST_DATA/F475W_GST_data_b20.npy')\n",
    "F475W_GST_MASTER = np.concatenate((F475W_GST_MASTER, F475W_GST_ADD), axis=None)\n",
    "\n",
    "F475W_GST_ADD = np.load('GST_DATA/F475W_GST_data_b19.npy')\n",
    "F475W_GST_MASTER = np.concatenate((F475W_GST_MASTER, F475W_GST_ADD), axis=None)\n",
    "\n",
    "F475W_GST_ADD = np.load('GST_DATA/F475W_GST_data_b18.npy')\n",
    "F475W_GST_MASTER = np.concatenate((F475W_GST_MASTER, F475W_GST_ADD), axis=None)\n",
    "\n",
    "F475W_GST_ADD = np.load('GST_DATA/F475W_GST_data_b17.npy')\n",
    "F475W_GST_MASTER = np.concatenate((F475W_GST_MASTER, F475W_GST_ADD), axis=None)\n",
    "\n",
    "F475W_GST_ADD = np.load('GST_DATA/F475W_GST_data_b16.npy')\n",
    "F475W_GST_MASTER = np.concatenate((F475W_GST_MASTER, F475W_GST_ADD), axis=None)\n",
    "\n",
    "F475W_GST_ADD = np.load('GST_DATA/F475W_GST_data_b15.npy')\n",
    "F475W_GST_MASTER = np.concatenate((F475W_GST_MASTER, F475W_GST_ADD), axis=None)\n",
    "\n",
    "F475W_GST_ADD = np.load('GST_DATA/F475W_GST_data_b14.npy')\n",
    "F475W_GST_MASTER = np.concatenate((F475W_GST_MASTER, F475W_GST_ADD), axis=None)\n",
    "\n",
    "F475W_GST_ADD = np.load('GST_DATA/F475W_GST_data_b13.npy')\n",
    "F475W_GST_MASTER = np.concatenate((F475W_GST_MASTER, F475W_GST_ADD), axis=None)\n",
    "\n",
    "F475W_GST_ADD = np.load('GST_DATA/F475W_GST_data_b12.npy')\n",
    "F475W_GST_MASTER = np.concatenate((F475W_GST_MASTER, F475W_GST_ADD), axis=None)\n",
    "\n",
    "F475W_GST_ADD = np.load('GST_DATA/F475W_GST_data_b11.npy')\n",
    "F475W_GST_MASTER = np.concatenate((F475W_GST_MASTER, F475W_GST_ADD), axis=None)\n",
    "\n",
    "F475W_GST_ADD = np.load('GST_DATA/F475W_GST_data_b10.npy')\n",
    "F475W_GST_MASTER = np.concatenate((F475W_GST_MASTER, F475W_GST_ADD), axis=None)\n",
    "\n",
    "F475W_GST_ADD = np.load('GST_DATA/F475W_GST_data_b09.npy')\n",
    "F475W_GST_MASTER = np.concatenate((F475W_GST_MASTER, F475W_GST_ADD), axis=None)\n",
    "\n",
    "F475W_GST_ADD = np.load('GST_DATA/F475W_GST_data_b08.npy')\n",
    "F475W_GST_MASTER = np.concatenate((F475W_GST_MASTER, F475W_GST_ADD), axis=None)\n",
    "\n",
    "F475W_GST_ADD = np.load('GST_DATA/F475W_GST_data_b07.npy')\n",
    "F475W_GST_MASTER = np.concatenate((F475W_GST_MASTER, F475W_GST_ADD), axis=None)\n",
    "\n",
    "np.save('F475W_GST_MASTER.npy', F475W_GST_MASTER)"
   ]
  },
  {
   "cell_type": "code",
   "execution_count": 125,
   "metadata": {},
   "outputs": [],
   "source": [
    "#See if you can use the package glob here to get all the files loaded in\n",
    "#fits_image_filename = fits.open('hlsp_phat_hst_wfc3-uvis-acs-wfc-wfc3-ir_12055-m31-b21_f275w-f336w-f475w-f814w-f110w-f160w_v2_st.fits')\n",
    "#fits_image_filename = fits.open('hlsp_phat_hst_wfc3-uvis-acs-wfc-wfc3-ir_12056-m31-b15_f275w-f336w-f475w-f814w-f110w-f160w_v2_st.fits')\n",
    "#fits_image_filename = fits.open('hlsp_phat_hst_wfc3-uvis-acs-wfc-wfc3-ir_12109-m31-b03_f275w-f336w-f475w-f814w-f110w-f160w_v2_st.fits')\n",
    "#fits_image_filename = fits.open('hlsp_phat_hst_wfc3-uvis-acs-wfc-wfc3-ir_12114-m31-b13_f275w-f336w-f475w-f814w-f110w-f160w_v2_st.fits')\n",
    "#fits_image_filename = fits.open('hlsp_phat_hst_wfc3-uvis-acs-wfc-wfc3-ir_12057-m31-b09_f275w-f336w-f475w-f814w-f110w-f160w_v2_st.fits')\n",
    "#fits_image_filename = fits.open('hlsp_phat_hst_wfc3-uvis-acs-wfc-wfc3-ir_12059-m31-b17_f275w-f336w-f475w-f814w-f110w-f160w_v2_st.fits')\n",
    "#fits_image_filename = fits.open('hlsp_phat_hst_wfc3-uvis-acs-wfc-wfc3-ir_12070-m31-b23_f275w-f336w-f475w-f814w-f110w-f160w_v2_st.fits')\n",
    "#fits_image_filename = fits.open('hlsp_phat_hst_wfc3-uvis-acs-wfc-wfc3-ir_12071-m31-b12_f275w-f336w-f475w-f814w-f110w-f160w_v2_st.fits')\n",
    "#fits_image_filename = fits.open('hlsp_phat_hst_wfc3-uvis-acs-wfc-wfc3-ir_12072-m31-b14_f275w-f336w-f475w-f814w-f110w-f160w_v2_st.fits')\n",
    "#fits_image_filename = fits.open('hlsp_phat_hst_wfc3-uvis-acs-wfc-wfc3-ir_12076-m31-b22_f275w-f336w-f475w-f814w-f110w-f160w_v2_st.fits')\n",
    "#fits_image_filename = fits.open('hlsp_phat_hst_wfc3-uvis-acs-wfc-wfc3-ir_12106-m31-b16_f275w-f336w-f475w-f814w-f110w-f160w_v2_st.fits')\n",
    "#fits_image_filename = fits.open('hlsp_phat_hst_wfc3-uvis-acs-wfc-wfc3-ir_12108-m31-b18_f275w-f336w-f475w-f814w-f110w-f160w_v2_st.fits')\n",
    "#fits_image_filename = fits.open('hlsp_phat_hst_wfc3-uvis-acs-wfc-wfc3-ir_12110-m31-b19_f275w-f336w-f475w-f814w-f110w-f160w_v2_st.fits')\n",
    "#fits_image_filename = fits.open('hlsp_phat_hst_wfc3-uvis-acs-wfc-wfc3-ir_12111-m31-b10_f275w-f336w-f475w-f814w-f110w-f160w_v2_st.fits')\n",
    "#fits_image_filename = fits.open('hlsp_phat_hst_wfc3-uvis-acs-wfc-wfc3-ir_12112-m31-b20_f275w-f336w-f475w-f814w-f110w-f160w_v2_st.fits')\n",
    "#fits_image_filename = fits.open('hlsp_phat_hst_wfc3-uvis-acs-wfc-wfc3-ir_12113-m31-b07_f275w-f336w-f475w-f814w-f110w-f160w_v2_st.fits')\n",
    "fits_image_filename = fits.open('hlsp_phat_hst_wfc3-uvis-acs-wfc-wfc3-ir_12115-m31-b11_f275w-f336w-f475w-f814w-f110w-f160w_v2_st.fits')\n"
   ]
  },
  {
   "cell_type": "code",
   "execution_count": 126,
   "metadata": {},
   "outputs": [
    {
     "name": "stdout",
     "output_type": "stream",
     "text": [
      "Filename: hlsp_phat_hst_wfc3-uvis-acs-wfc-wfc3-ir_12115-m31-b11_f275w-f336w-f475w-f814w-f110w-f160w_v2_st.fits\n",
      "No.    Name      Ver    Type      Cards   Dimensions   Format\n",
      "  0  PRIMARY       1 PrimaryHDU       6   ()      \n",
      "  1                1 BinTableHDU    164   4544918R x 78C   [E, E, D, D, E, E, E, E, E, E, E, E, E, I, E, E, E, E, E, E, E, E, E, I, E, E, E, E, E, E, E, E, E, I, E, E, E, E, E, E, E, E, E, I, E, E, E, E, E, E, E, E, E, I, E, E, E, E, E, E, E, E, E, I, L, L, L, L, L, L, K, E, E, L, L, L, L, L]   \n"
     ]
    }
   ],
   "source": [
    "fits_image_filename.info()         #/*collects basic info on the file.*/"
   ]
  },
  {
   "cell_type": "code",
   "execution_count": 127,
   "metadata": {},
   "outputs": [],
   "source": [
    "hdul = fits_image_filename         #/*assigns fits_image_filename to shorter variable name.*/"
   ]
  },
  {
   "cell_type": "code",
   "execution_count": 128,
   "metadata": {},
   "outputs": [],
   "source": [
    "#hdul[1].data.names                 #/*prints all column titles for each data array stored in BinTableHDU / 'hdul.'*/\n",
    "# 'f275w_gst',\n",
    "# 'f336w_gst',\n",
    "# 'f475w_gst',\n",
    "# 'f814w_gst',\n",
    "# 'f110w_gst',\n",
    "# 'f160w_gst',\n"
   ]
  },
  {
   "cell_type": "code",
   "execution_count": 129,
   "metadata": {},
   "outputs": [
    {
     "name": "stdout",
     "output_type": "stream",
     "text": [
      "4544918\n"
     ]
    }
   ],
   "source": [
    "data = hdul[1].data                #/*stores BinTableHDU into variable 'data.'*/\n",
    "print(len(data.f475w_vega))        #/*prints the length (amount) of values for filter 110w on vega magnitude.*/\n",
    "distance = 770 * 1000    #/*distance to M31 in parsecs (770 kiloparsecs).*/\n",
    "\n",
    "app_vis_mag = data.f475w_vega      #/*stores the array of data values for filter 110w on vega magnitude.*/\n",
    "abs_vis_mag = app_vis_mag - (5 * (math.log10(distance)))"
   ]
  },
  {
   "cell_type": "code",
   "execution_count": 130,
   "metadata": {},
   "outputs": [],
   "source": [
    "#Get the points that meet Willaims 2014 GST Criteria \n",
    "\n",
    "F475W_GST = [data['f475w_vega'][i] for i in range(len(data['f475w_gst'])) if data['f475w_gst'][i] == True and data['f814w_gst'][i] == True and data['f814w_vega'][i] < 40 and (data['f475w_vega'][i]-data['f814w_vega'][i]) < 60]\n",
    "F814W_GST = [data['f814w_vega'][i] for i in range(len(data['f814w_gst'])) if data['f475w_gst'][i] == True and data['f814w_gst'][i] == True and data['f814w_vega'][i] < 40 and (data['f475w_vega'][i]-data['f814w_vega'][i]) < 60]"
   ]
  },
  {
   "cell_type": "code",
   "execution_count": 131,
   "metadata": {},
   "outputs": [],
   "source": [
    "#Recreating Williams 2014 Figure 12\n",
    "\n",
    "#DELETED since used outdated cull methods."
   ]
  },
  {
   "cell_type": "code",
   "execution_count": 132,
   "metadata": {
    "scrolled": true
   },
   "outputs": [],
   "source": [
    "#plt.rcParams['figure.figsize'] = [5, 5]\n",
    "#plt.rcParams['figure.dpi'] = (150)\n",
    "#plt.style.use('seaborn-whitegrid')\n",
    "\n",
    "#y = F814W_GST\n",
    "#x = np.subtract(F475W_GST,F814W_GST)\n",
    "\n",
    "#colors = (0.1, 0.1, 0.1)\n",
    "\n",
    "#plt.plot(x, y, 'o', color = colors, marker = 's', markersize = 0.1, fillstyle = 'full')\n",
    "#plt.xlabel('F475W - F814W')\n",
    "\n",
    "#plt.ylabel('F814W')\n",
    "#plt.title('GST CMD')\n",
    "#plt.axis([-2, 5, 16, 28])\n",
    "\n",
    "#plt.gca().invert_yaxis()\n",
    "\n",
    "#plt.show()"
   ]
  },
  {
   "cell_type": "markdown",
   "metadata": {},
   "source": [
    "## This is to vizualize the density of the above plot a bit better"
   ]
  },
  {
   "cell_type": "code",
   "execution_count": 133,
   "metadata": {},
   "outputs": [],
   "source": [
    "y = np.array(F814W_GST)\n",
    "x = np.array(np.subtract(F475W_GST,F814W_GST))"
   ]
  },
  {
   "cell_type": "code",
   "execution_count": null,
   "metadata": {},
   "outputs": [],
   "source": []
  },
  {
   "cell_type": "code",
   "execution_count": null,
   "metadata": {},
   "outputs": [],
   "source": []
  },
  {
   "cell_type": "code",
   "execution_count": 134,
   "metadata": {},
   "outputs": [],
   "source": [
    "#This saves them so that we can open them in the MIST notebook (feel free to change the file path)\n",
    "np.save('F475W_GST_data.npy',F475W_GST)\n",
    "np.save('F814W_GST_data.npy',F814W_GST)"
   ]
  },
  {
   "cell_type": "code",
   "execution_count": 135,
   "metadata": {},
   "outputs": [],
   "source": [
    "fits_image_filename.close()        #/*ends the file I/O process*/"
   ]
  },
  {
   "cell_type": "code",
   "execution_count": null,
   "metadata": {},
   "outputs": [],
   "source": []
  }
 ],
 "metadata": {
  "kernelspec": {
   "display_name": "Python 3",
   "language": "python",
   "name": "python3"
  },
  "language_info": {
   "codemirror_mode": {
    "name": "ipython",
    "version": 3
   },
   "file_extension": ".py",
   "mimetype": "text/x-python",
   "name": "python",
   "nbconvert_exporter": "python",
   "pygments_lexer": "ipython3",
   "version": "3.7.3"
  }
 },
 "nbformat": 4,
 "nbformat_minor": 4
}
