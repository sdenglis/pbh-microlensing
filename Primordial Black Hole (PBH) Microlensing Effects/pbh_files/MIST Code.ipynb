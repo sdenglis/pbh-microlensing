{
 "cells": [
  {
   "cell_type": "code",
   "execution_count": 6,
   "metadata": {
    "scrolled": true
   },
   "outputs": [
    {
     "name": "stdout",
     "output_type": "stream",
     "text": [
      "problem: [WinError 126] The specified module could not be found\n"
     ]
    },
    {
     "ename": "SystemExit",
     "evalue": "1",
     "output_type": "error",
     "traceback": [
      "An exception has occurred, use %tb to see the full traceback.\n",
      "\u001b[1;31mSystemExit\u001b[0m\u001b[1;31m:\u001b[0m 1\n"
     ]
    }
   ],
   "source": [
    "%matplotlib inline\n",
    "import read_mist_models\n",
    "import numpy as np\n",
    "import matplotlib.pyplot as plt\n",
    "import matplotlib.mlab as mlab\n",
    "import glob\n",
    "from scipy.stats import kde, norm\n",
    "import scipy as scipy\n",
    "from scipy import spatial\n",
    "from scipy.optimize import curve_fit\n",
    "\n",
    "import math\n",
    "\n",
    "from isochrones.mist import MISTIsochroneGrid"
   ]
  },
  {
   "cell_type": "code",
   "execution_count": 7,
   "metadata": {},
   "outputs": [],
   "source": [
    "#Read in all files\n",
    "filenames = glob.glob('MIST_v1.2_vvcrit0.0_HST_ACSWF/MIST*.cmd')\n",
    "filenames = filenames[0:2]"
   ]
  },
  {
   "cell_type": "code",
   "execution_count": 8,
   "metadata": {},
   "outputs": [],
   "source": [
    "#Initialize arrays to store info we care about (should add other filters as well)\n",
    "ages = np.arange(5.,10.3,0.05)\n",
    "F475W = np.array([])\n",
    "F814W = np.array([])\n",
    "bolLum = np.array([])\n",
    "tEff = np.array([])\n",
    "mass = np.array([])"
   ]
  },
  {
   "cell_type": "code",
   "execution_count": 9,
   "metadata": {},
   "outputs": [
    {
     "name": "stdout",
     "output_type": "stream",
     "text": [
      "Reading in: MIST_v1.2_vvcrit0.0_HST_ACSWF\\MIST_v1.2_feh_m0.25_afe_p0.0_vvcrit0.0_HST_ACSWF.iso.cmd\n",
      "Reading in: MIST_v1.2_vvcrit0.0_HST_ACSWF\\MIST_v1.2_feh_m0.50_afe_p0.0_vvcrit0.0_HST_ACSWF.iso.cmd\n"
     ]
    }
   ],
   "source": [
    "#Combine data from all files into single arrays\n",
    "for filename in filenames:\n",
    "    isocmd = read_mist_models.ISOCMD(filename)\n",
    "    #loop through ages\n",
    "    for age in ages:\n",
    "        age_ind = isocmd.age_index(age)\n",
    "        F475W = np.concatenate((F475W,isocmd.isocmds[age_ind]['ACS_WFC_F475W']),axis=0)\n",
    "        F814W = np.concatenate((F814W,isocmd.isocmds[age_ind]['ACS_WFC_F814W']),axis=0)\n",
    "        bolLum = np.concatenate((bolLum,isocmd.isocmds[age_ind]['log_L']),axis=0)\n",
    "        tEff = np.concatenate((tEff,isocmd.isocmds[age_ind]['log_Teff']),axis=0)\n",
    "        mass = np.concatenate((mass,isocmd.isocmds[age_ind]['star_mass']),axis=0)"
   ]
  },
  {
   "cell_type": "code",
   "execution_count": 10,
   "metadata": {},
   "outputs": [],
   "source": [
    "#Convert from absolute magnitude to vegamag\n",
    "dist = 770 * 10**3 #Dist to m31 in pc. Assume this is the distance to every star\n",
    "F475WVega = F475W + 5*math.log10(dist/10)\n",
    "F814WVega = F814W + 5*math.log10(dist/10)"
   ]
  },
  {
   "cell_type": "code",
   "execution_count": 11,
   "metadata": {},
   "outputs": [],
   "source": [
    "#Load the PHAT Data (saved from Stellar Population notebook)\n",
    "F475W_GST = np.load('F475W_GST_data_b03.npy')\n",
    "F814W_GST = np.load('F814W_GST_data_b03.npy')"
   ]
  },
  {
   "cell_type": "code",
   "execution_count": 12,
   "metadata": {},
   "outputs": [],
   "source": [
    "def kroupa(marr):\n",
    "    resArr = []\n",
    "    for m in marr:\n",
    "        if m <= 0.08:\n",
    "            resArr.append(13*m**(-0.3))\n",
    "        elif m > 0.08 and m < 0.5:\n",
    "            resArr.append(m**(-1.3))\n",
    "        else:\n",
    "            resArr.append(.5*m**(-2.3))\n",
    "    return resArr\n",
    "\n",
    "def chabrier(marr):\n",
    "    resArr = []\n",
    "    for m in marr:\n",
    "        if m < 1:\n",
    "            resArr.append(0.158*(1/(np.log(10)*m))*np.exp(-np.log10(m)-np.log10(0.08)**2 /(2*.69**2)))\n",
    "        else:\n",
    "            resArr.append(0.02*m**(-2.3))\n",
    "    return resArr"
   ]
  },
  {
   "cell_type": "code",
   "execution_count": 13,
   "metadata": {},
   "outputs": [
    {
     "data": {
      "image/png": "[encoded data removed]",
      "text/plain": [
       "<Figure size 432x288 with 1 Axes>"
      ]
     },
     "metadata": {
      "needs_background": "light"
     },
     "output_type": "display_data"
    }
   ],
   "source": [
    "#USE Chabrier Inital Mass Function\n",
    "m = np.logspace(-2,2,1000)\n",
    "#plt.plot(m,kroupa(m))\n",
    "plt.plot(m,kroupa(m))\n",
    "plt.plot(m,chabrier(m))\n",
    "plt.xscale('log')\n",
    "plt.yscale('log')\n",
    "plt.show()"
   ]
  },
  {
   "cell_type": "code",
   "execution_count": 14,
   "metadata": {},
   "outputs": [
    {
     "name": "stdout",
     "output_type": "stream",
     "text": [
      "2.0\n",
      "1.2828503679211187\n"
     ]
    }
   ],
   "source": [
    "nearestRadii = np.array([1,2,3])\n",
    "nearestMass = np.array([1,2,3])\n",
    "print(np.mean(nearestRadii))\n",
    "print(sum(((chabrier(nearestMass) / sum(chabrier(nearestMass))) *nearestRadii)))"
   ]
  },
  {
   "cell_type": "markdown",
   "metadata": {},
   "source": [
    "### Here's what the MIST Isochrones look like!"
   ]
  },
  {
   "cell_type": "code",
   "execution_count": 15,
   "metadata": {},
   "outputs": [],
   "source": [
    "#Make a HR density plot\n",
    "#x = tEff\n",
    "#y = bolLum"
   ]
  },
  {
   "cell_type": "code",
   "execution_count": 16,
   "metadata": {},
   "outputs": [],
   "source": [
    "#nbins=300\n",
    "#k = kde.gaussian_kde([x,y])\n",
    "#xi, yi = np.mgrid[x.min():x.max():nbins*1j, y.min():y.max():nbins*1j]\n",
    "#zi = k(np.vstack([xi.flatten(), yi.flatten()]))"
   ]
  },
  {
   "cell_type": "code",
   "execution_count": 17,
   "metadata": {},
   "outputs": [],
   "source": [
    "#plt.figure(figsize=(8,6))\n",
    "#plt.pcolormesh(xi, yi, zi.reshape(xi.shape))\n",
    "#plt.colorbar()    \n",
    "#plt.xlabel('log10(TEff)')\n",
    "#plt.ylabel('log10(Lum)')\n",
    "#plt.title('MIST HR')\n",
    "#plt.axis([3.45,4.8,0,6])\n",
    "#plt.gca().invert_xaxis()\n",
    "#plt.show()"
   ]
  },
  {
   "cell_type": "code",
   "execution_count": 18,
   "metadata": {},
   "outputs": [],
   "source": [
    "#Make a density plot of the color index\n",
    "#x = np.subtract(F475W,F814W)\n",
    "#y = F814W"
   ]
  },
  {
   "cell_type": "code",
   "execution_count": 19,
   "metadata": {},
   "outputs": [],
   "source": [
    "#nbins=300\n",
    "#k = kde.gaussian_kde([x,y])\n",
    "#xi, yi = np.mgrid[x.min():x.max():nbins*1j, y.min():y.max():nbins*1j]\n",
    "#zi = k(np.vstack([xi.flatten(), yi.flatten()]))"
   ]
  },
  {
   "cell_type": "code",
   "execution_count": 20,
   "metadata": {},
   "outputs": [],
   "source": [
    "#plt.figure(figsize=(8,6))\n",
    "#plt.pcolormesh(xi, yi, zi.reshape(xi.shape))\n",
    "#plt.colorbar()    \n",
    "#plt.xlabel('F475W-F814W')\n",
    "#plt.ylabel('F814W')\n",
    "#plt.gca().invert_yaxis()\n",
    "#plt.show()"
   ]
  },
  {
   "cell_type": "markdown",
   "metadata": {},
   "source": [
    "## Now we can find the closest MIST stars to each PHAT star and compare their properties"
   ]
  },
  {
   "cell_type": "code",
   "execution_count": 21,
   "metadata": {},
   "outputs": [],
   "source": [
    "#Define function to find closest points in isochrone\n",
    "def do_kdtree(combined_x_y_arrays,points,numNeighbors=1):\n",
    "    mytree = scipy.spatial.cKDTree(combined_x_y_arrays)\n",
    "    dist, indexes = mytree.query(points,k=numNeighbors)\n",
    "    return indexes\n",
    "\n",
    "def sourceRadius(bolLum,tEff):\n",
    "    return math.sqrt(((10**bolLum)*3.85*10**26) /(4*math.pi*5.670367*10**(-8)*(10**tEff)**4))/(6.9551*10**8)\n",
    "    \n",
    "def sourceRadiiArr(bolLumArr,tEffArr):\n",
    "    return [sourceRadius(bolLumArr[i], tEffArr[i]) for i in range(len(bolLumArr))]\n"
   ]
  },
  {
   "cell_type": "code",
   "execution_count": 22,
   "metadata": {},
   "outputs": [],
   "source": [
    "F475WminusF814_GST = np.subtract(F475W_GST,F814W_GST)\n",
    "PHATData = [[F475WminusF814_GST[i], F814W_GST[i]] for i in range(len(F814W_GST))]"
   ]
  },
  {
   "cell_type": "code",
   "execution_count": 23,
   "metadata": {},
   "outputs": [],
   "source": [
    "x = np.subtract(F475WVega,F814WVega)\n",
    "y = F814WVega\n",
    "combined_xy_array = np.dstack([x,y])[0]\n",
    "#testpoints = np.array([[0.25099945,24.153]]) #This will be PHAT data\n",
    "sourceRadii = np.array([])\n",
    "numNeighbors = 10; #Number of closest points to return\n",
    "\n",
    "resultIdx = do_kdtree(combined_xy_array,PHATData,numNeighbors) #Find closest numNeighbors neighbors\n",
    "\n",
    "neighborRadii = [sourceRadiiArr(bolLum[i], tEff[i]) for i in resultIdx] #Calculate the source radius for each neighbor\n",
    "neighborMass = [mass[i] for i in resultIdx]\n",
    "\n",
    "\n",
    "\n",
    "# print('target points: ', testpoints)\n",
    "# print('closest points: ', x[resultIdx], y[resultIdx])\n",
    "# print('resultIdx: ', resultIdx)\n",
    "# print('T_Eff: ', tEff[resultIdx])\n",
    "# print('bol_Lum: ',bolLum[resultIdx])\n",
    "# print('source radii: ', sourceRadii)"
   ]
  },
  {
   "cell_type": "markdown",
   "metadata": {},
   "source": [
    "## Weighting the MIST data using IMF"
   ]
  },
  {
   "cell_type": "code",
   "execution_count": 24,
   "metadata": {},
   "outputs": [],
   "source": [
    "weightedRadii = [sum(((chabrier(neighborMass[i]) / sum(chabrier(neighborMass[i]))) *neighborRadii[i])) for i in range(len(neighborMass))]"
   ]
  },
  {
   "cell_type": "code",
   "execution_count": 25,
   "metadata": {},
   "outputs": [],
   "source": [
    "#Calculate the average and std of the nearest neighbors\n",
    "meanSourceRadii = [np.mean(neighborRadii[i]) for i in range(len(neighborRadii))] #This is the best guess for the PHAT Star's radius\n",
    "stdSourceRadii = [np.std(neighborRadii[i]) for i in range(len(neighborRadii))] "
   ]
  },
  {
   "cell_type": "code",
   "execution_count": 26,
   "metadata": {},
   "outputs": [
    {
     "data": {
      "image/png": "[encoded data removed]",
      "text/plain": [
       "<Figure size 432x288 with 1 Axes>"
      ]
     },
     "metadata": {
      "needs_background": "light"
     },
     "output_type": "display_data"
    }
   ],
   "source": [
    "meanPlot = plt.hist(meanSourceRadii,bins=np.linspace(0,20,20), label='Unweighted')\n",
    "weightedPlot = plt.hist(weightedRadii, bins=np.linspace(0,20,20),label='IMF Weighted',alpha=0.5)\n",
    "plt.title('Stellar radii distribution')\n",
    "plt.xlabel('Radius [R$\\odot$]')\n",
    "plt.ylabel('count')\n",
    "plt.legend()\n",
    "plt.savefig('WeightedVsUnweightedDistribution.png')\n",
    "plt.show()"
   ]
  },
  {
   "cell_type": "code",
   "execution_count": 27,
   "metadata": {},
   "outputs": [
    {
     "data": {
      "image/png": "[encoded data removed]",
      "text/plain": [
       "<Figure size 432x288 with 1 Axes>"
      ]
     },
     "metadata": {
      "needs_background": "light"
     },
     "output_type": "display_data"
    }
   ],
   "source": [
    "#Mass and radius don't correlate 1 to 1 so that's what disfavoring high mass doesn't necessarily disfavor high radius\n",
    "plt.bar(weightedPlot[1][0:-1], height=(weightedPlot[0] - meanPlot[0]))\n",
    "plt.title('Weighted - Unweighted Radius Historam per bin')\n",
    "plt.xlabel('Radius [R$\\odot$]')\n",
    "plt.ylabel('excess count')\n",
    "plt.savefig('WeightedVsUnweightedCount')\n",
    "plt.show()"
   ]
  },
  {
   "cell_type": "markdown",
   "metadata": {},
   "source": [
    "## Distance Weighting"
   ]
  },
  {
   "cell_type": "markdown",
   "metadata": {},
   "source": [
    "We also want weight our results by how good our fit is. One way to do this is to calculate the distance\n",
    "to the synthetic stars implied by the photometry. If this distance is similar to the distance to M31 (the PHAT stars),\n",
    "then this is a nice verification that the fit is good."
   ]
  },
  {
   "cell_type": "code",
   "execution_count": 28,
   "metadata": {},
   "outputs": [],
   "source": [
    "F475WNeighbors = F475W[resultIdx]\n",
    "avgF475WNeighbors = [np.mean(F475WNeighbors[i]) for i in range(len(F475WNeighbors))]\n",
    "F475W_GST_All = [F475W_GST for i in range(numNeighbors)]\n",
    "F475W_GST_All = np.transpose(F475W_GST_All)"
   ]
  },
  {
   "cell_type": "code",
   "execution_count": 29,
   "metadata": {},
   "outputs": [],
   "source": [
    "distModulusF475W = np.subtract(F475W_GST_All,F475WNeighbors)\n",
    "distAbs = [(10 * 10**(distModulusF475W[i] *.2))/1000 for i in range(len(distModulusF475W))] #Result in kpc\n",
    "distWeights = abs(1/(distAbs - 770*np.ones(np.shape(distAbs)))) / sum(abs(1/(distAbs - 770*np.ones(np.shape(distAbs[1])))))\n",
    "weightedRadii2 = [sum(distWeights[i]*neighborRadii[i]/sum(distWeights[i])) for i in range(len(distWeights))]"
   ]
  },
  {
   "cell_type": "code",
   "execution_count": 30,
   "metadata": {},
   "outputs": [],
   "source": [
    "weightedRadiiFinal = [(weightedRadii[i] + weightedRadii2[i]) /2. for i in range(len(weightedRadii))] "
   ]
  },
  {
   "cell_type": "code",
   "execution_count": 31,
   "metadata": {},
   "outputs": [],
   "source": [
    "distAbsMean = [np.mean(distAbs[i]) for i in range(len(distAbs))]"
   ]
  },
  {
   "cell_type": "code",
   "execution_count": 32,
   "metadata": {},
   "outputs": [
    {
     "data": {
      "image/png": "[encoded data removed]",
      "text/plain": [
       "<Figure size 432x288 with 1 Axes>"
      ]
     },
     "metadata": {
      "needs_background": "light"
     },
     "output_type": "display_data"
    }
   ],
   "source": [
    "plt.hist(distAbsMean,bins=np.linspace(760,780,30))\n",
    "plt.xlabel('Distance [kpc]')\n",
    "plt.ylabel('Counts')\n",
    "plt.title('Nearest Neighbor Implied Distances')\n",
    "plt.show()"
   ]
  },
  {
   "cell_type": "markdown",
   "metadata": {},
   "source": [
    "## Let's visualize the spread of neighbor radii"
   ]
  },
  {
   "cell_type": "code",
   "execution_count": 33,
   "metadata": {},
   "outputs": [],
   "source": [
    "neighborRadiiStd = [np.std(neighborRadii[i]) for i in range(len(neighborRadii))]"
   ]
  },
  {
   "cell_type": "code",
   "execution_count": 34,
   "metadata": {},
   "outputs": [],
   "source": [
    "#neighborRadiiError = [neighborRadiiStd[i]/neighborRadiiMean[i] * 100 for i in range(len(neighborRadiiStd))]"
   ]
  },
  {
   "cell_type": "code",
   "execution_count": 35,
   "metadata": {},
   "outputs": [],
   "source": [
    "#plt.hist(neighborRadiiError,bins=np.linspace(0,10,15))\n",
    "#plt.title('Percent STD of Nearest Neighbor Radii')\n",
    "#plt.xlabel('Percent error (std/mean for each neighbor set)')\n",
    "#plt.ylabel('Count')\n",
    "#plt.show()"
   ]
  },
  {
   "cell_type": "code",
   "execution_count": 36,
   "metadata": {},
   "outputs": [],
   "source": [
    "#Fit two gaussians to the data (https://stackoverflow.com/questions/35990467/fit-two-gaussians-to-a-histogram-from-one-set-of-data-python)\n",
    "def gauss(x,mu,sigma,A):\n",
    "    return A*np.exp(-(x-mu)**2/2/sigma**2)\n",
    "\n",
    "def bimodal(x,mu1,sigma1,A1,mu2,sigma2,A2):\n",
    "    return gauss(x,mu1,sigma1,A1)+gauss(x,mu2,sigma2,A2)"
   ]
  },
  {
   "cell_type": "code",
   "execution_count": 37,
   "metadata": {
    "scrolled": true
   },
   "outputs": [
    {
     "data": {
      "image/png": "[encoded data removed]",
      "text/plain": [
       "<Figure size 576x432 with 1 Axes>"
      ]
     },
     "metadata": {
      "needs_background": "light"
     },
     "output_type": "display_data"
    }
   ],
   "source": [
    "plt.figure(figsize=(8,6))\n",
    "xmin = 0\n",
    "xmax = 49\n",
    "nbins = 50\n",
    "#y,x,_ = plt.hist(meanSourceRadii,bins=np.linspace(xmin,xmax,nbins),label='data')\n",
    "y,x,_ = plt.hist(weightedRadiiFinal,bins=np.linspace(xmin,xmax,nbins),label='Weighted Data')\n",
    "x = x[0:-1] #Fix bin edge number problem\n",
    "x = x + (xmax-xmin)/(2*float(nbins)) #Center the bins\n",
    "xnew = np.linspace(min(x),max(x), 1000)\n",
    "\n",
    "expected = (3, 2, 200000, 13, 2, 50000) #Approximating mean, std, amplitude\n",
    "\n",
    "params, cov = curve_fit(bimodal,x,y,expected)\n",
    "sigma = np.sqrt(np.diag(cov))\n",
    "plt.plot(xnew,bimodal(xnew,*params),label='2 Population Gaussian Fit')\n",
    "plt.xlabel('Radius [R$\\odot$]')\n",
    "plt.ylabel('Abundance')\n",
    "plt.title('Double Gaussian Fit')\n",
    "plt.legend()\n",
    "\n",
    "plt.savefig('GaussianFit.png')\n",
    "plt.show()"
   ]
  },
  {
   "cell_type": "code",
   "execution_count": 38,
   "metadata": {},
   "outputs": [
    {
     "name": "stdout",
     "output_type": "stream",
     "text": [
      "Mean: \n",
      " 0.08539582559849293 -74.43647808766859\n",
      "std: \n",
      " 5.051227288863818 29.069489687727813\n",
      "amplitude: \n",
      " -1189072.1825711317 34237953.26872616\n"
     ]
    }
   ],
   "source": [
    "#The parameters for each population\n",
    "print('Mean: \\n', params[0], params[3])\n",
    "print('std: \\n', params[1], params[4])\n",
    "print('amplitude: \\n', params[2], params[5])"
   ]
  },
  {
   "cell_type": "markdown",
   "metadata": {},
   "source": [
    "## Can basically ignore everything below here for now!"
   ]
  },
  {
   "cell_type": "code",
   "execution_count": 37,
   "metadata": {},
   "outputs": [],
   "source": [
    "#Over 97% of all stars have radius of x[23] or less we can just use these bins\n",
    "#print(sum(y[23:])/sum(y))"
   ]
  },
  {
   "cell_type": "code",
   "execution_count": null,
   "metadata": {},
   "outputs": [],
   "source": [
    "#x[0:23]"
   ]
  },
  {
   "cell_type": "code",
   "execution_count": null,
   "metadata": {},
   "outputs": [],
   "source": [
    "#y[0:23]"
   ]
  },
  {
   "cell_type": "code",
   "execution_count": null,
   "metadata": {},
   "outputs": [],
   "source": [
    "#Visual of nearest neighbors at work\n",
    "#plt.figure(figsize=(10,8))\n",
    "#plt.scatter(x,y,color='k')\n",
    "#plt.scatter(x[resultIdx],y[resultIdx],color='r')\n",
    "#plt.scatter(testpoints[:,0],testpoints[:,1],color='b')\n",
    "#plt.xlabel('F475W-F814W')\n",
    "#plt.ylabel('F814W')\n",
    "#plt.gca().invert_yaxis()\n",
    "\n",
    "#plt.show()"
   ]
  },
  {
   "cell_type": "code",
   "execution_count": null,
   "metadata": {},
   "outputs": [],
   "source": [
    "#x2 = np.subtract(F475WCulled,F814WCulled)\n",
    "#y2 = F814WCulled\n",
    "#nbins=300\n",
    "#k2 = kde.gaussian_kde([x2,y2])\n",
    "#xi2, yi2 = np.mgrid[x2.min():x2.max():nbins*1j, y2.min():y2.max():nbins*1j]\n",
    "#zi2 = k2(np.vstack([xi2.flatten(), yi2.flatten()]))"
   ]
  },
  {
   "cell_type": "code",
   "execution_count": null,
   "metadata": {},
   "outputs": [],
   "source": [
    "#plt.figure(figsize=(8,6))\n",
    "\n",
    "#plt.scatter(x,y,color='k')\n",
    "#plt.scatter(x2,y2,color='r')\n",
    "#plt.gca().invert_xaxis()\n",
    "\n",
    "\n",
    "#plt.pcolormesh(xi2, yi2, zi2.reshape(xi2.shape),cmap=plt.get_cmap('viridis'), alpha=0.4)\n",
    "#plt.colorbar()    \n",
    "\n",
    "#plt.gca().invert_yaxis()\n",
    "#plt.xlabel('F475W-F814W')\n",
    "#plt.ylabel('F814W')\n",
    "#plt.title('PHAT Color-Mag')\n",
    "#plt.show()"
   ]
  },
  {
   "cell_type": "code",
   "execution_count": null,
   "metadata": {},
   "outputs": [],
   "source": [
    "#print('photometric system: ', isocmd.photo_sys)\n",
    "#print('hdr list: ', isocmd.hdr_list)"
   ]
  },
  {
   "cell_type": "code",
   "execution_count": null,
   "metadata": {},
   "outputs": [],
   "source": [
    "#age_ind = isocmd.age_index(6.5)\n",
    "#F475W = isocmd.isocmds[age_ind]['ACS_WFC_F475W']\n",
    "#F814W = isocmd.isocmds[age_ind]['ACS_WFC_F814W']\n",
    "\n",
    "#plt.scatter(F475W-F814W, F814W)\n",
    "#plt.xlabel('F475W-F814W')\n",
    "#plt.ylabel('F814W')\n",
    "#plt.gca().invert_yaxis()"
   ]
  },
  {
   "cell_type": "code",
   "execution_count": null,
   "metadata": {},
   "outputs": [],
   "source": [
    "#Save data:\n",
    "#np.save('F475W_data',F475W)\n",
    "#np.save('F814W_data',F814W)\n",
    "#np.save('bolLum_data',bolLum) \n",
    "#np.save('tEff_data',tEff)"
   ]
  },
  {
   "cell_type": "code",
   "execution_count": null,
   "metadata": {},
   "outputs": [],
   "source": [
    "#F475WCulled = np.load('F475WCulled_data.npy')\n",
    "#F814WCulled = np.load('F814WCulled_data.npy')\n",
    "#F475W_GST = np.load('F475W_GST_data.npy')\n",
    "#F814W_GST = np.load('F814W_GST_data.npy')"
   ]
  },
  {
   "cell_type": "code",
   "execution_count": null,
   "metadata": {},
   "outputs": [],
   "source": []
  },
  {
   "cell_type": "code",
   "execution_count": null,
   "metadata": {},
   "outputs": [],
   "source": []
  }
 ],
 "metadata": {
  "kernelspec": {
   "display_name": "Python 3",
   "language": "python",
   "name": "python3"
  },
  "language_info": {
   "codemirror_mode": {
    "name": "ipython",
    "version": 3
   },
   "file_extension": ".py",
   "mimetype": "text/x-python",
   "name": "python",
   "nbconvert_exporter": "python",
   "pygments_lexer": "ipython3",
   "version": "3.7.3"
  }
 },
 "nbformat": 4,
 "nbformat_minor": 4
}
